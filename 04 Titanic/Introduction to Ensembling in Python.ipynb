{
 "cells": [
  {
   "cell_type": "markdown",
   "metadata": {},
   "source": [
    "## Introduction to Ensembling in Python"
   ]
  },
  {
   "cell_type": "markdown",
   "metadata": {},
   "source": [
    "1. [Load Dataset](#1)\n",
    "\n",
    "2. [Predictive Modeling](#2)\n",
    "\n",
    "3. [Cross-validation](#3)\n",
    "\n",
    "4. [Hyper-Parameters Tuning](#4)\n",
    "\n",
    "5. [Ensembling](#5)\n",
    "\n",
    "6. [Feature Importance](#6)"
   ]
  },
  {
   "cell_type": "markdown",
   "metadata": {
    "heading_collapsed": true
   },
   "source": [
    "## <a name=\"1\">Load Dataset</a>"
   ]
  },
  {
   "cell_type": "code",
   "execution_count": 1,
   "metadata": {
    "ExecuteTime": {
     "end_time": "2020-02-14T18:33:53.817005Z",
     "start_time": "2020-02-14T18:33:38.091647Z"
    },
    "hidden": true
   },
   "outputs": [],
   "source": [
    "import pandas as pd\n",
    "\n",
    "df=pd.read_csv(\"data/new_data.csv\")"
   ]
  },
  {
   "cell_type": "markdown",
   "metadata": {
    "heading_collapsed": true
   },
   "source": [
    "## <a name=\"2\">Predictive Modeling</a>"
   ]
  },
  {
   "cell_type": "code",
   "execution_count": 2,
   "metadata": {
    "ExecuteTime": {
     "end_time": "2020-02-14T18:34:28.228710Z",
     "start_time": "2020-02-14T18:34:12.659704Z"
    },
    "hidden": true
   },
   "outputs": [],
   "source": [
    "from sklearn.model_selection import train_test_split\n",
    "from sklearn import svm\n",
    "from sklearn.linear_model import LogisticRegression\n",
    "from sklearn.neighbors import KNeighborsClassifier\n",
    "from sklearn.naive_bayes import GaussianNB\n",
    "from sklearn.tree import DecisionTreeClassifier\n",
    "from sklearn.ensemble import RandomForestClassifier\n",
    "from sklearn.metrics import accuracy_score"
   ]
  },
  {
   "cell_type": "code",
   "execution_count": 3,
   "metadata": {
    "ExecuteTime": {
     "end_time": "2020-02-14T18:34:28.242254Z",
     "start_time": "2020-02-14T18:34:28.231632Z"
    },
    "hidden": true
   },
   "outputs": [],
   "source": [
    "X=df.drop(\"Survived\",1)\n",
    "y=df[\"Survived\"]\n",
    "X_train,X_test,y_train,y_test=train_test_split(X,y,test_size=1/3,random_state=0,stratify=df[\"Survived\"])"
   ]
  },
  {
   "cell_type": "code",
   "execution_count": 13,
   "metadata": {
    "ExecuteTime": {
     "end_time": "2020-02-10T14:14:00.812967Z",
     "start_time": "2020-02-10T14:14:00.436561Z"
    },
    "hidden": true
   },
   "outputs": [
    {
     "data": {
      "text/html": [
       "<div>\n",
       "<style scoped>\n",
       "    .dataframe tbody tr th:only-of-type {\n",
       "        vertical-align: middle;\n",
       "    }\n",
       "\n",
       "    .dataframe tbody tr th {\n",
       "        vertical-align: top;\n",
       "    }\n",
       "\n",
       "    .dataframe thead th {\n",
       "        text-align: right;\n",
       "    }\n",
       "</style>\n",
       "<table border=\"1\" class=\"dataframe\">\n",
       "  <thead>\n",
       "    <tr style=\"text-align: right;\">\n",
       "      <th></th>\n",
       "      <th>Accuracy</th>\n",
       "    </tr>\n",
       "  </thead>\n",
       "  <tbody>\n",
       "    <tr>\n",
       "      <th>Linear SVM</th>\n",
       "      <td>0.838384</td>\n",
       "    </tr>\n",
       "    <tr>\n",
       "      <th>Radial SVM</th>\n",
       "      <td>0.855219</td>\n",
       "    </tr>\n",
       "    <tr>\n",
       "      <th>Logistic Regression</th>\n",
       "      <td>0.851852</td>\n",
       "    </tr>\n",
       "    <tr>\n",
       "      <th>Naive Bayes</th>\n",
       "      <td>0.801347</td>\n",
       "    </tr>\n",
       "    <tr>\n",
       "      <th>k-nearest neighbors</th>\n",
       "      <td>0.784512</td>\n",
       "    </tr>\n",
       "    <tr>\n",
       "      <th>Decision Tree</th>\n",
       "      <td>0.835017</td>\n",
       "    </tr>\n",
       "    <tr>\n",
       "      <th>Random Forest</th>\n",
       "      <td>0.845118</td>\n",
       "    </tr>\n",
       "  </tbody>\n",
       "</table>\n",
       "</div>"
      ],
      "text/plain": [
       "                     Accuracy\n",
       "Linear SVM           0.838384\n",
       "Radial SVM           0.855219\n",
       "Logistic Regression  0.851852\n",
       "Naive Bayes          0.801347\n",
       "k-nearest neighbors  0.784512\n",
       "Decision Tree        0.835017\n",
       "Random Forest        0.845118"
      ]
     },
     "execution_count": 13,
     "metadata": {},
     "output_type": "execute_result"
    }
   ],
   "source": [
    "abc=[]\n",
    "classifiers=[\"Linear SVM\",\"Radial SVM\",\"Logistic Regression\",\"Naive Bayes\",\"k-nearest neighbors\",\"Decision Tree\",\"Random Forest\"]\n",
    "models=[svm.SVC(kernel=\"linear\"),svm.SVC(kernel=\"rbf\"),LogisticRegression(),GaussianNB(),KNeighborsClassifier(),DecisionTreeClassifier(),RandomForestClassifier(n_estimators=100)]\n",
    "for model in models:\n",
    "    model.fit(X_train,y_train)\n",
    "    y_pred=model.predict(X_test)\n",
    "    abc.append(accuracy_score(y_test,y_pred))\n",
    "models_df=pd.DataFrame(abc,index=classifiers)\n",
    "models_df.columns=[\"Accuracy\"]\n",
    "models_df"
   ]
  },
  {
   "cell_type": "markdown",
   "metadata": {
    "hidden": true
   },
   "source": [
    "The accuracy of a model is not the only factor that determines the robustness of the classifier.\n",
    "\n",
    "Let's say that a classifier is trained over a training data and tested over the test data and it scores an accuracy of 90%.  \n",
    "This seems to be a very good accuracy for a classifier, but we can't confirm that it will be 90% for all the new observations. Because we can't determine which instances the classifier will use to train itself. As the training and testing data changes, the accuracy will also change. It may increase or decrease. This is known as model variance.\n",
    "\n",
    "To overcome this and get a generalized model, we use Cross Validation."
   ]
  },
  {
   "cell_type": "markdown",
   "metadata": {
    "heading_collapsed": true
   },
   "source": [
    "## <a name=\"3\">Cross-validation</a>"
   ]
  },
  {
   "cell_type": "markdown",
   "metadata": {
    "hidden": true
   },
   "source": [
    "When the data is imbalanced, there may be a high number of class1 instances but less number of other class instances. Thus we should train and test our algorithm on each and every instance of the dataset. Then we can take an average of all the noted accuracies over the dataset.\n",
    "\n",
    "1. The K-Fold Cross-validation works by dividing the dataset into k-subsets\n",
    "2. Let's say we divide the dataset into (k=5) parts. We reserve 1 part for testing and train the algorithm over the 4 parts\n",
    "3. We continue the process by changing the testing part in each iteration and training the algorithm over the other parts. The accuracies and errors are then averaged to get a average accuracy of the algorithm\n",
    "4. An algorithm may underfit over a dataset for some training data and sometimes also overfit the data for other training set. Thus with cross-validation, we can achieve a generalised model"
   ]
  },
  {
   "cell_type": "code",
   "execution_count": 6,
   "metadata": {
    "ExecuteTime": {
     "end_time": "2020-02-14T18:35:23.242470Z",
     "start_time": "2020-02-14T18:35:21.445756Z"
    },
    "hidden": true
   },
   "outputs": [
    {
     "data": {
      "text/html": [
       "<div>\n",
       "<style scoped>\n",
       "    .dataframe tbody tr th:only-of-type {\n",
       "        vertical-align: middle;\n",
       "    }\n",
       "\n",
       "    .dataframe tbody tr th {\n",
       "        vertical-align: top;\n",
       "    }\n",
       "\n",
       "    .dataframe thead th {\n",
       "        text-align: right;\n",
       "    }\n",
       "</style>\n",
       "<table border=\"1\" class=\"dataframe\">\n",
       "  <thead>\n",
       "    <tr style=\"text-align: right;\">\n",
       "      <th></th>\n",
       "      <th>CV Mean</th>\n",
       "      <th>Std</th>\n",
       "    </tr>\n",
       "  </thead>\n",
       "  <tbody>\n",
       "    <tr>\n",
       "      <td>Linear SVM</td>\n",
       "      <td>0.812547</td>\n",
       "      <td>0.031519</td>\n",
       "    </tr>\n",
       "    <tr>\n",
       "      <td>Radial SVM</td>\n",
       "      <td>0.837241</td>\n",
       "      <td>0.023822</td>\n",
       "    </tr>\n",
       "    <tr>\n",
       "      <td>Logistic Regression</td>\n",
       "      <td>0.831673</td>\n",
       "      <td>0.021103</td>\n",
       "    </tr>\n",
       "    <tr>\n",
       "      <td>Naive Bayes</td>\n",
       "      <td>0.782310</td>\n",
       "      <td>0.042432</td>\n",
       "    </tr>\n",
       "    <tr>\n",
       "      <td>k-nearest neighbors</td>\n",
       "      <td>0.817091</td>\n",
       "      <td>0.025374</td>\n",
       "    </tr>\n",
       "    <tr>\n",
       "      <td>Decision Tree</td>\n",
       "      <td>0.821586</td>\n",
       "      <td>0.028343</td>\n",
       "    </tr>\n",
       "    <tr>\n",
       "      <td>Random Forest</td>\n",
       "      <td>0.830512</td>\n",
       "      <td>0.034680</td>\n",
       "    </tr>\n",
       "  </tbody>\n",
       "</table>\n",
       "</div>"
      ],
      "text/plain": [
       "                      CV Mean       Std\n",
       "Linear SVM           0.812547  0.031519\n",
       "Radial SVM           0.837241  0.023822\n",
       "Logistic Regression  0.831673  0.021103\n",
       "Naive Bayes          0.782310  0.042432\n",
       "k-nearest neighbors  0.817091  0.025374\n",
       "Decision Tree        0.821586  0.028343\n",
       "Random Forest        0.830512  0.034680"
      ]
     },
     "execution_count": 6,
     "metadata": {},
     "output_type": "execute_result"
    }
   ],
   "source": [
    "from sklearn.model_selection import KFold,cross_val_score,cross_val_predict\n",
    "\n",
    "kfold=KFold(n_splits=10,random_state=22)\n",
    "abc=[]\n",
    "accuracy=[]\n",
    "std=[]\n",
    "classifiers=[\"Linear SVM\",\"Radial SVM\",\"Logistic Regression\",\"Naive Bayes\",\"k-nearest neighbors\",\"Decision Tree\",\"Random Forest\"]\n",
    "models=[svm.SVC(kernel=\"linear\"),svm.SVC(kernel=\"rbf\"),LogisticRegression(),GaussianNB(),KNeighborsClassifier(),DecisionTreeClassifier(),RandomForestClassifier(n_estimators=100)]\n",
    "for model in models:\n",
    "    cv_result=cross_val_score(model,X,y,cv=kfold,scoring=\"accuracy\")\n",
    "    abc.append(cv_result.mean())\n",
    "    std.append(cv_result.std())\n",
    "    accuracy.append(cv_result)\n",
    "new_models_df=pd.DataFrame({\"CV Mean\":abc,\"Std\":std},index=classifiers)\n",
    "new_models_df"
   ]
  },
  {
   "cell_type": "code",
   "execution_count": 88,
   "metadata": {
    "ExecuteTime": {
     "end_time": "2020-02-13T09:40:48.661073Z",
     "start_time": "2020-02-13T09:40:48.463986Z"
    },
    "hidden": true
   },
   "outputs": [
    {
     "data": {
      "image/png": "[encoded data removed]",
      "text/plain": [
       "<Figure size 432x288 with 1 Axes>"
      ]
     },
     "metadata": {
      "needs_background": "light"
     },
     "output_type": "display_data"
    }
   ],
   "source": [
    "import matplotlib.pyplot as plt\n",
    "import seaborn as sns\n",
    "\n",
    "new_models_df[\"CV Mean\"].plot.barh(width=0.8)\n",
    "plt.title(\"Average CV Mean Accuracy\")\n",
    "plt.show()"
   ]
  },
  {
   "cell_type": "markdown",
   "metadata": {
    "hidden": true
   },
   "source": [
    "The classification accuracy can be sometimes misleading due to imbalance. We can get a summarized result with the help of confusion matrix, which shows where did the model go wrong, or which class did the model predict wrong.\n",
    "\n",
    "It gives the number of correct and incorrect classifications made by the classifier."
   ]
  },
  {
   "cell_type": "code",
   "execution_count": 29,
   "metadata": {
    "ExecuteTime": {
     "end_time": "2020-02-12T10:17:20.535679Z",
     "start_time": "2020-02-12T10:17:14.763833Z"
    },
    "hidden": true
   },
   "outputs": [
    {
     "data": {
      "image/png": "[encoded data removed]",
      "text/plain": [
       "<Figure size 864x720 with 16 Axes>"
      ]
     },
     "metadata": {
      "needs_background": "light"
     },
     "output_type": "display_data"
    }
   ],
   "source": [
    "from sklearn.metrics import confusion_matrix\n",
    "\n",
    "f,ax=plt.subplots(3,3,figsize=(12,10))\n",
    "y_pred=cross_val_predict(svm.SVC(kernel=\"rbf\"),X,y,cv=kfold)\n",
    "sns.heatmap(confusion_matrix(y,y_pred),ax=ax[0,0],annot=True,cmap=\"coolwarm\",fmt=\"g\")\n",
    "ax[0,0].set_title(\"Matrix for rbf-SVM\")\n",
    "y_pred=cross_val_predict(svm.SVC(kernel=\"linear\"),X,y,cv=kfold)\n",
    "sns.heatmap(confusion_matrix(y,y_pred),ax=ax[0,1],annot=True,cmap=\"coolwarm\",fmt=\"g\")\n",
    "ax[0,1].set_title(\"Matrix for linear-SVM\")\n",
    "y_pred=cross_val_predict(LogisticRegression(),X,y,cv=kfold)\n",
    "sns.heatmap(confusion_matrix(y,y_pred),ax=ax[0,2],annot=True,cmap=\"coolwarm\",fmt=\"g\")\n",
    "ax[0,2].set_title(\"Matrix for Logistic Regression\")\n",
    "y_pred=cross_val_predict(GaussianNB(),X,y,cv=kfold)\n",
    "sns.heatmap(confusion_matrix(y,y_pred),ax=ax[1,0],annot=True,cmap=\"coolwarm\",fmt=\"g\")\n",
    "ax[1,0].set_title(\"Matrix for Naive Bayes\")\n",
    "y_pred=cross_val_predict(KNeighborsClassifier(),X,y,cv=kfold)\n",
    "sns.heatmap(confusion_matrix(y,y_pred),ax=ax[1,1],annot=True,cmap=\"coolwarm\",fmt=\"g\")\n",
    "ax[1,1].set_title(\"Matrix for k-nearest neighbors\")\n",
    "y_pred=cross_val_predict(DecisionTreeClassifier(),X,y,cv=kfold)\n",
    "sns.heatmap(confusion_matrix(y,y_pred),ax=ax[1,2],annot=True,cmap=\"coolwarm\",fmt=\"g\")\n",
    "ax[1,2].set_title(\"Matrix for Decision Tree\")\n",
    "y_pred=cross_val_predict(RandomForestClassifier(n_estimators=100),X,y,cv=kfold)\n",
    "sns.heatmap(confusion_matrix(y,y_pred),ax=ax[2,0],annot=True,cmap=\"coolwarm\",fmt=\"g\")\n",
    "ax[2,0].set_title(\"Matrix for Random Forest\")\n",
    "plt.show()"
   ]
  },
  {
   "cell_type": "markdown",
   "metadata": {
    "hidden": true
   },
   "source": [
    "**Interpreting Confusion Matrix**: The left diagonal shows the number of correct predictions made for each class while the right diagonal shows the number of wrong prredictions made.\n",
    "\n",
    "Let's consider the first plot for rbf-SVM:\n",
    "- The no. of correct predictions are 496(for dead) + 245(for survived) with the mean CV accuracy being (496+245)/891 = 83.1% which we did get earlier\n",
    "- Errors -> Wrongly Classified 53 dead people as survived and 97 survived as dead\n",
    "\n",
    "By looking at all the matrices, we can say that linear-SVM has a higher chance in correctly predicting dead passengers but NaiveBayes has a higher chance in correctly predicting passengers who survived."
   ]
  },
  {
   "cell_type": "markdown",
   "metadata": {
    "heading_collapsed": true
   },
   "source": [
    "## <a name=\"4\">Hyper-Parameters Tuning</a>"
   ]
  },
  {
   "cell_type": "markdown",
   "metadata": {
    "hidden": true
   },
   "source": [
    "The machine learning models are like a Black-Box. There are some default parameter values for this Black-Box, which we can tune or change to get a better model. Like the C and gamma in the SVM model and similarly different parameters for different classifiers, are called the hyper-parameters, which we can tune to change the learning rate of the algorithm and get a better model. This is known as Hyper-Parameter Tuning.\n",
    "\n",
    "We will tune the hyper-parameters for the 2 best classifiers i.e the SVM and Random Forest.\n",
    "\n",
    "**SVM**"
   ]
  },
  {
   "cell_type": "code",
   "execution_count": 30,
   "metadata": {
    "ExecuteTime": {
     "end_time": "2020-02-12T10:36:19.470965Z",
     "start_time": "2020-02-12T10:36:01.266951Z"
    },
    "hidden": true
   },
   "outputs": [
    {
     "name": "stdout",
     "output_type": "stream",
     "text": [
      "Fitting 5 folds for each of 220 candidates, totalling 1100 fits\n"
     ]
    },
    {
     "name": "stderr",
     "output_type": "stream",
     "text": [
      "[Parallel(n_jobs=-1)]: Using backend LokyBackend with 4 concurrent workers.\n",
      "[Parallel(n_jobs=-1)]: Done  48 tasks      | elapsed:    7.0s\n"
     ]
    },
    {
     "name": "stdout",
     "output_type": "stream",
     "text": [
      "0.8406126420187057\n",
      "SVC(C=0.7, break_ties=False, cache_size=200, class_weight=None, coef0=0.0,\n",
      "    decision_function_shape='ovr', degree=3, gamma=0.2, kernel='rbf',\n",
      "    max_iter=-1, probability=False, random_state=None, shrinking=True,\n",
      "    tol=0.001, verbose=False)\n"
     ]
    },
    {
     "name": "stderr",
     "output_type": "stream",
     "text": [
      "[Parallel(n_jobs=-1)]: Done 1092 tasks      | elapsed:   17.9s\n",
      "[Parallel(n_jobs=-1)]: Done 1100 out of 1100 | elapsed:   18.0s finished\n"
     ]
    }
   ],
   "source": [
    "from sklearn.model_selection import GridSearchCV\n",
    "\n",
    "C=[0.05,0.1,0.2,0.3,0.4,0.5,0.6,0.7,0.8,0.9,1]\n",
    "gamma=[0.1,0.2,0.3,0.4,0.5,0.6,0.7,0.8,0.9,1.0]\n",
    "kernel=[\"rbf\",\"linear\"]\n",
    "param_grid={\"kernel\":kernel,\"C\":C,\"gamma\":gamma}\n",
    "gd=GridSearchCV(estimator=svm.SVC(),param_grid=param_grid,verbose=True,n_jobs=-1)\n",
    "gd.fit(X,y)\n",
    "print(gd.best_score_)\n",
    "print(gd.best_estimator_)"
   ]
  },
  {
   "cell_type": "markdown",
   "metadata": {
    "hidden": true
   },
   "source": [
    "**Random Forest**"
   ]
  },
  {
   "cell_type": "code",
   "execution_count": 8,
   "metadata": {
    "ExecuteTime": {
     "end_time": "2020-02-14T18:36:00.013858Z",
     "start_time": "2020-02-14T18:35:49.648600Z"
    },
    "hidden": true
   },
   "outputs": [
    {
     "name": "stdout",
     "output_type": "stream",
     "text": [
      "Fitting 3 folds for each of 9 candidates, totalling 27 fits\n"
     ]
    },
    {
     "name": "stderr",
     "output_type": "stream",
     "text": [
      "[Parallel(n_jobs=-1)]: Using backend LokyBackend with 4 concurrent workers.\n",
      "[Parallel(n_jobs=-1)]: Done  27 out of  27 | elapsed:    9.6s finished\n"
     ]
    },
    {
     "name": "stdout",
     "output_type": "stream",
     "text": [
      "0.8338945005611673\n",
      "RandomForestClassifier(bootstrap=True, class_weight=None, criterion='gini',\n",
      "                       max_depth=None, max_features='auto', max_leaf_nodes=None,\n",
      "                       min_impurity_decrease=0.0, min_impurity_split=None,\n",
      "                       min_samples_leaf=1, min_samples_split=2,\n",
      "                       min_weight_fraction_leaf=0.0, n_estimators=600,\n",
      "                       n_jobs=None, oob_score=False, random_state=0, verbose=0,\n",
      "                       warm_start=False)\n"
     ]
    }
   ],
   "source": [
    "n_estimators=range(100,1000,100)\n",
    "param_grid={\"n_estimators\":n_estimators}\n",
    "gd=GridSearchCV(estimator=RandomForestClassifier(random_state=0),param_grid=param_grid,verbose=True,n_jobs=-1)\n",
    "gd.fit(X,y)\n",
    "print(gd.best_score_)\n",
    "print(gd.best_estimator_)"
   ]
  },
  {
   "cell_type": "markdown",
   "metadata": {
    "hidden": true
   },
   "source": [
    "The best score for rbf-SVM is 84.06% with C=0.7 and gamma=0.2. For Random Forest, score is about 82.7% with n_estimators=200."
   ]
  },
  {
   "cell_type": "code",
   "execution_count": null,
   "metadata": {
    "ExecuteTime": {
     "end_time": "2020-02-14T18:46:27.881738Z",
     "start_time": "2020-02-14T18:46:26.758978Z"
    },
    "hidden": true
   },
   "outputs": [],
   "source": [
    "\"\"\"from sklearn import tree\n",
    "from sklearn.tree import DecisionTreeClassifier\n",
    "import pydotplus\n",
    "from IPython.display import Image\n",
    "\n",
    "clf=gd.best_estimator_\n",
    "\n",
    "# Let's extract a single tree\n",
    "estimator=clf.estimators_[5]\n",
    "\n",
    "dot_data=tree.export_graphviz(estimator,out_file=None,feature_names=X.columns)\n",
    "graph=pydotplus.graph_from_dot_data(dot_data)\n",
    "Image(graph.create_png())\"\"\""
   ]
  },
  {
   "cell_type": "markdown",
   "metadata": {
    "heading_collapsed": true
   },
   "source": [
    "## <a name=\"5\">Ensembling</a>"
   ]
  },
  {
   "cell_type": "markdown",
   "metadata": {
    "hidden": true
   },
   "source": [
    "Ensembling is a good way to increase the performance of a model. In other words, it's the combination of various simple models to create a single powerful model.\n",
    "\n",
    "Ensembling can be done in ways like:\n",
    "- Voting Classifier\n",
    "- Bagging\n",
    "- Boosting\n",
    "\n",
    "**Voting Classifier**\n",
    "\n",
    "It is the simplest way of combining predictions from many different simple machine learning models. It gives an average prediction result based on the prediction of all the base models."
   ]
  },
  {
   "cell_type": "code",
   "execution_count": 80,
   "metadata": {
    "ExecuteTime": {
     "end_time": "2020-02-13T09:23:08.875626Z",
     "start_time": "2020-02-13T09:22:54.442340Z"
    },
    "hidden": true
   },
   "outputs": [
    {
     "name": "stdout",
     "output_type": "stream",
     "text": [
      "The accuracy for ensembled model is 0.8484848484848485\n",
      "The cross validated score is 0.827191011235955\n"
     ]
    }
   ],
   "source": [
    "from sklearn.ensemble import VotingClassifier\n",
    "\n",
    "ensemble_lin_rbf=VotingClassifier(estimators=[(\"KNN\",KNeighborsClassifier(n_neighbors=3)),\n",
    "                                             (\"RBF\",svm.SVC(probability=True,kernel=\"rbf\",C=0.5,gamma=0.1)),\n",
    "                                             (\"RFor\",RandomForestClassifier(n_estimators=500,random_state=0)),\n",
    "                                             (\"LR\",LogisticRegression(C=0.05)),\n",
    "                                             (\"DT\",DecisionTreeClassifier(random_state=0)),\n",
    "                                             (\"NB\",GaussianNB()),\n",
    "                                             (\"LIN\",svm.SVC(kernel=\"linear\",probability=True))],voting=\"soft\").fit(X_train,y_train)\n",
    "\n",
    "print(\"The accuracy for ensembled model is {}\".format(ensemble_lin_rbf.score(X_test,y_test)))\n",
    "result=cross_val_score(ensemble_lin_rbf,X,y,cv=kfold,scoring=\"accuracy\")\n",
    "print(\"The cross validated score is {}\".format(result.mean()))"
   ]
  },
  {
   "cell_type": "markdown",
   "metadata": {
    "hidden": true
   },
   "source": [
    "**Bagging**\n",
    "\n",
    "Bagging is a general ensemble method. It works by applying similar classifiers on small partitions of the dataset and then taking the average of all the predictions.\n",
    "\n",
    "**Bagged KNN**"
   ]
  },
  {
   "cell_type": "code",
   "execution_count": 78,
   "metadata": {
    "ExecuteTime": {
     "end_time": "2020-02-13T09:15:14.081258Z",
     "start_time": "2020-02-13T09:14:43.962001Z"
    },
    "hidden": true
   },
   "outputs": [
    {
     "name": "stdout",
     "output_type": "stream",
     "text": [
      "The accuracy for bagged KNN is 0.8316498316498316\n",
      "The cross validated score for bagged KNN is 0.8148813982521848\n"
     ]
    }
   ],
   "source": [
    "from sklearn.ensemble import BaggingClassifier\n",
    "\n",
    "clf=BaggingClassifier(base_estimator=KNeighborsClassifier(n_neighbors=3),random_state=0,n_estimators=700)\n",
    "clf.fit(X_train,y_train)\n",
    "y_pred=clf.predict(X_test)\n",
    "print(\"The accuracy for bagged KNN is {}\".format(accuracy_score(y_test,y_pred)))\n",
    "result=cross_val_score(clf,X,y,cv=kfold,scoring=\"accuracy\")\n",
    "print(\"The cross validated score for bagged KNN is {}\".format(result.mean()))"
   ]
  },
  {
   "cell_type": "markdown",
   "metadata": {
    "hidden": true
   },
   "source": [
    "**Bagged Decision Tree**"
   ]
  },
  {
   "cell_type": "code",
   "execution_count": 79,
   "metadata": {
    "ExecuteTime": {
     "end_time": "2020-02-13T09:16:03.531095Z",
     "start_time": "2020-02-13T09:15:45.576438Z"
    },
    "hidden": true
   },
   "outputs": [
    {
     "name": "stdout",
     "output_type": "stream",
     "text": [
      "The accuracy for bagged Decision Tree is 0.8518518518518519\n",
      "The cross validated score for bagged Decision Tree is 0.826067415730337\n"
     ]
    }
   ],
   "source": [
    "clf=BaggingClassifier(base_estimator=DecisionTreeClassifier(),random_state=0,n_estimators=700)\n",
    "clf.fit(X_train,y_train)\n",
    "y_pred=clf.predict(X_test)\n",
    "print(\"The accuracy for bagged Decision Tree is {}\".format(accuracy_score(y_test,y_pred)))\n",
    "result=cross_val_score(clf,X,y,cv=kfold,scoring=\"accuracy\")\n",
    "print(\"The cross validated score for bagged Decision Tree is {}\".format(result.mean()))"
   ]
  },
  {
   "cell_type": "markdown",
   "metadata": {
    "hidden": true
   },
   "source": [
    "**Boosting**\n",
    "\n",
    "Boosting is an ensembling technique which uses sequential learning of classifiers. It is a step by step enhancement of a weak model.\n",
    "\n",
    "Boosting works as follows:  \n",
    "A model is first trained on the complete dataset. Now the model will get some instances right and some wrong. Now in the next iteration, the learner will focus more on the wrongly predicted instances or give more weight to it. Thus it will try to predict the wrong instance correctly, and new classifiers are added to the model until the limit is reached on the accuracy.\n",
    "\n",
    "**AdaBoost (Adaptive Boosting)**"
   ]
  },
  {
   "cell_type": "code",
   "execution_count": 30,
   "metadata": {
    "ExecuteTime": {
     "end_time": "2020-02-14T19:14:07.135351Z",
     "start_time": "2020-02-14T19:14:04.469134Z"
    },
    "hidden": true
   },
   "outputs": [
    {
     "name": "stdout",
     "output_type": "stream",
     "text": [
      "The cross validated score for AdaBoost is: 0.8148439450686642\n"
     ]
    }
   ],
   "source": [
    "from sklearn.ensemble import AdaBoostClassifier\n",
    "\n",
    "clf=AdaBoostClassifier(n_estimators=200,random_state=0,learning_rate=0.1)\n",
    "result=cross_val_score(clf,X,y,cv=kfold,scoring=\"accuracy\")\n",
    "print(\"The cross validated score for AdaBoost is: {}\".format(result.mean()))"
   ]
  },
  {
   "cell_type": "markdown",
   "metadata": {
    "ExecuteTime": {
     "end_time": "2020-02-13T08:39:30.031288Z",
     "start_time": "2020-02-13T08:39:30.005720Z"
    },
    "hidden": true
   },
   "source": [
    "**XGBoost**"
   ]
  },
  {
   "cell_type": "code",
   "execution_count": 18,
   "metadata": {
    "ExecuteTime": {
     "end_time": "2020-02-14T18:55:11.217132Z",
     "start_time": "2020-02-14T18:55:07.057607Z"
    },
    "hidden": true
   },
   "outputs": [
    {
     "name": "stdout",
     "output_type": "stream",
     "text": [
      "The cross validated score for XGBoost is: 0.830561797752809\n"
     ]
    }
   ],
   "source": [
    "import xgboost as xg\n",
    "\n",
    "clf=xg.XGBClassifier(n_estimators=900,learning_rate=0.1)\n",
    "result=cross_val_score(clf,X,y,cv=kfold,scoring=\"accuracy\")\n",
    "print(\"The cross validated score for XGBoost is: {}\".format(result.mean()))"
   ]
  },
  {
   "cell_type": "markdown",
   "metadata": {
    "hidden": true
   },
   "source": [
    "**Hyper-Parameters Tuning for AdaBoost**"
   ]
  },
  {
   "cell_type": "code",
   "execution_count": 76,
   "metadata": {
    "ExecuteTime": {
     "end_time": "2020-02-13T09:07:17.799440Z",
     "start_time": "2020-02-13T09:02:05.880603Z"
    },
    "hidden": true
   },
   "outputs": [
    {
     "name": "stdout",
     "output_type": "stream",
     "text": [
      "Fitting 5 folds for each of 120 candidates, totalling 600 fits\n"
     ]
    },
    {
     "name": "stderr",
     "output_type": "stream",
     "text": [
      "[Parallel(n_jobs=-1)]: Using backend LokyBackend with 4 concurrent workers.\n",
      "[Parallel(n_jobs=-1)]: Done  42 tasks      | elapsed:   25.4s\n",
      "[Parallel(n_jobs=-1)]: Done 192 tasks      | elapsed:  1.7min\n",
      "[Parallel(n_jobs=-1)]: Done 442 tasks      | elapsed:  3.8min\n",
      "[Parallel(n_jobs=-1)]: Done 600 out of 600 | elapsed:  5.2min finished\n"
     ]
    },
    {
     "name": "stdout",
     "output_type": "stream",
     "text": [
      "0.8204444165463564\n",
      "AdaBoostClassifier(algorithm='SAMME.R', base_estimator=None, learning_rate=0.05,\n",
      "                   n_estimators=200, random_state=None)\n"
     ]
    }
   ],
   "source": [
    "from sklearn.model_selection import GridSearchCV\n",
    "\n",
    "param_grid={\"n_estimators\":list(range(100,1100,100)),\"learning_rate\":[0.05,0.1,0.2,0.3,0.25,0.4,0.5,0.6,0.7,0.8,0.9,1]}\n",
    "gd=GridSearchCV(estimator=AdaBoostClassifier(),param_grid=param_grid,verbose=True,n_jobs=-1)\n",
    "gd.fit(X,y)\n",
    "print(gd.best_score_)\n",
    "print(gd.best_estimator_)"
   ]
  },
  {
   "cell_type": "markdown",
   "metadata": {
    "hidden": true
   },
   "source": [
    "The maximum accuracy we can get with AdaBoost is 82.04% with n_estimators=200 and learning_rate=0.05\n",
    "\n",
    "**Confusion Matrix for the best model**"
   ]
  },
  {
   "cell_type": "code",
   "execution_count": 77,
   "metadata": {
    "ExecuteTime": {
     "end_time": "2020-02-13T09:07:44.088427Z",
     "start_time": "2020-02-13T09:07:39.066594Z"
    },
    "hidden": true
   },
   "outputs": [
    {
     "data": {
      "image/png": "[encoded data removed]",
      "text/plain": [
       "<Figure size 432x288 with 2 Axes>"
      ]
     },
     "metadata": {
      "needs_background": "light"
     },
     "output_type": "display_data"
    }
   ],
   "source": [
    "clf=AdaBoostClassifier(n_estimators=200,random_state=0,learning_rate=0.05)\n",
    "result=cross_val_predict(clf,X,y,cv=kfold)\n",
    "sns.heatmap(confusion_matrix(y,result),annot=True,cmap=\"coolwarm\",fmt=\"g\")\n",
    "plt.show()"
   ]
  },
  {
   "cell_type": "markdown",
   "metadata": {
    "heading_collapsed": true
   },
   "source": [
    "## <a name=\"6\">Feature Importance</a>"
   ]
  },
  {
   "cell_type": "code",
   "execution_count": 23,
   "metadata": {
    "ExecuteTime": {
     "end_time": "2020-02-14T18:57:05.612504Z",
     "start_time": "2020-02-14T18:57:03.927974Z"
    },
    "hidden": true
   },
   "outputs": [
    {
     "data": {
      "image/png": "[encoded data removed]",
      "text/plain": [
       "<Figure size 1080x864 with 4 Axes>"
      ]
     },
     "metadata": {
      "needs_background": "light"
     },
     "output_type": "display_data"
    }
   ],
   "source": [
    "f,ax=plt.subplots(2,2,figsize=(15,12))\n",
    "clf=RandomForestClassifier(n_estimators=500,random_state=0)\n",
    "clf.fit(X,y)\n",
    "pd.Series(clf.feature_importances_,X.columns).sort_values(ascending=True).plot.barh(width=0.8,ax=ax[0,0])\n",
    "ax[0,0].set_title('Feature Importance in Random Forest')\n",
    "clf=AdaBoostClassifier(n_estimators=200,learning_rate=0.05,random_state=0)\n",
    "clf.fit(X,y)\n",
    "pd.Series(clf.feature_importances_,X.columns).sort_values(ascending=True).plot.barh(width=0.8,ax=ax[0,1])\n",
    "ax[0,1].set_title('Feature Importance in AdaBoost')\n",
    "clf=xg.XGBClassifier(n_estimators=900,learning_rate=0.1)\n",
    "clf.fit(X,y)\n",
    "pd.Series(clf.feature_importances_,X.columns).sort_values(ascending=True).plot.barh(width=0.8,ax=ax[1,0])\n",
    "ax[1,0].set_title('Feature Importance in XGBoost')\n",
    "plt.show()"
   ]
  },
  {
   "cell_type": "code",
   "execution_count": null,
   "metadata": {
    "hidden": true
   },
   "outputs": [],
   "source": []
  }
 ],
 "metadata": {
  "kernelspec": {
   "display_name": "Python 3",
   "language": "python",
   "name": "python3"
  },
  "language_info": {
   "codemirror_mode": {
    "name": "ipython",
    "version": 3
   },
   "file_extension": ".py",
   "mimetype": "text/x-python",
   "name": "python",
   "nbconvert_exporter": "python",
   "pygments_lexer": "ipython3",
   "version": "3.7.4"
  },
  "latex_envs": {
   "LaTeX_envs_menu_present": true,
   "autoclose": false,
   "autocomplete": true,
   "bibliofile": "biblio.bib",
   "cite_by": "apalike",
   "current_citInitial": 1,
   "eqLabelWithNumbers": true,
   "eqNumInitial": 1,
   "hotkeys": {
    "equation": "Ctrl-E",
    "itemize": "Ctrl-I"
   },
   "labels_anchors": false,
   "latex_user_defs": false,
   "report_style_numbering": false,
   "user_envs_cfg": false
  },
  "toc": {
   "base_numbering": 1,
   "nav_menu": {},
   "number_sections": true,
   "sideBar": true,
   "skip_h1_title": false,
   "title_cell": "Table of Contents",
   "title_sidebar": "Contents",
   "toc_cell": false,
   "toc_position": {},
   "toc_section_display": true,
   "toc_window_display": false
  }
 },
 "nbformat": 4,
 "nbformat_minor": 4
}
