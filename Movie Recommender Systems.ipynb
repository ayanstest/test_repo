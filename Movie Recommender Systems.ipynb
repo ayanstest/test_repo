{
 "cells": [
  {
   "cell_type": "markdown",
   "metadata": {},
   "source": [
    "## Movie Recommender Systems\n",
    "\n",
    "The rapid growth of data collection has led to a new era of information. Data is being used to create more efficient systems and this is where Recommendation Systems come into play. They are used to predict the rating or preference that a user would give to an item. Almost every major tech company has applied them in some form or the other: Amazon uses it to suggest products to customers, YouTube uses it to decide which video to play next on autoplay, and Facebook uses it to recommend pages to like and people to follow. Moreover, companies like Netflix and Spotify depend highly on the effectiveness of their recommendation engines for their business and success.\n",
    "\n",
    "In this notebook, I will try to predict the score or the rating of a movie. We know that the score of a movie depends on various factors like the genre, or the actor working in the film and mainly the director of the film. Considering all such factors, I will try to build a simple score predictor for this dataset.\n",
    "\n",
    "General description and data are available on [Kaggle](https://www.kaggle.com/tmdb/tmdb-movie-metadata)."
   ]
  },
  {
   "cell_type": "markdown",
   "metadata": {},
   "source": [
    "1. [Load Dataset](#1)\n",
    "\n",
    "2. [Demographic Filtering](#2)\n",
    "\n",
    "3. [Content Based Filtering](#3)\n",
    "\n",
    "4. [Collaborative Filtering](#4)"
   ]
  },
  {
   "cell_type": "markdown",
   "metadata": {},
   "source": [
    "## <a name=\"1\">Load Dataset</a>"
   ]
  },
  {
   "cell_type": "code",
   "execution_count": null,
   "metadata": {
    "ExecuteTime": {
     "end_time": "2020-04-15T07:35:57.121207Z",
     "start_time": "2020-04-15T07:35:56.738401Z"
    }
   },
   "outputs": [],
   "source": [
    "import pandas as pd\n",
    "\n",
    "movies=pd.read_csv(\"data/tmdb_5000_movies.csv\")\n",
    "credits=pd.read_csv(\"data/tmdb_5000_credits.csv\")\n",
    "\n",
    "columns_names=movies.columns.tolist()\n",
    "print(\"Columns names: \\n{}\".format(columns_names))\n",
    "print(movies.shape)\n",
    "movies.head()"
   ]
  },
  {
   "cell_type": "markdown",
   "metadata": {},
   "source": [
    "We can see that genres,keywords,production_companies,production_countries,spoken_languages are in the json format. Similarly in the other csv file, cast and crew are in the json format. Now lets convert these columns into a format that can be easily read and interpreted. We will convert them into strings and later convert them into lists for easier interpretation."
   ]
  },
  {
   "cell_type": "code",
   "execution_count": null,
   "metadata": {
    "ExecuteTime": {
     "end_time": "2020-04-14T07:36:57.204094Z",
     "start_time": "2020-04-14T07:36:38.719427Z"
    }
   },
   "outputs": [],
   "source": [
    "import json\n",
    "\n",
    "# Converting the json into strings\n",
    "movies[\"genres\"]=movies[\"genres\"].apply(json.loads)\n",
    "for index,i in zip(movies.index,movies[\"genres\"]):\n",
    "    list1=[]\n",
    "    for j in range(len(i)):\n",
    "        list1.append((i[j][\"name\"])) # the key \"name\" contains the name of the genre\n",
    "    movies.loc[index,\"genres\"]=str(list1)\n",
    "\n",
    "movies[\"keywords\"]=movies[\"keywords\"].apply(json.loads)\n",
    "for index,i in zip(movies.index,movies[\"keywords\"]):\n",
    "    list1=[]\n",
    "    for j in range(len(i)):\n",
    "        list1.append((i[j][\"name\"]))\n",
    "    movies.loc[index,\"keywords\"]=str(list1)\n",
    "\n",
    "movies[\"production_companies\"]=movies[\"production_companies\"].apply(json.loads)\n",
    "for index,i in zip(movies.index,movies[\"production_companies\"]):\n",
    "    list1=[]\n",
    "    for j in range(len(i)):\n",
    "        list1.append((i[j][\"name\"]))\n",
    "    movies.loc[index,\"production_companies\"]=str(list1)\n",
    "\n",
    "movies[\"production_countries\"]=movies[\"production_countries\"].apply(json.loads)\n",
    "for index,i in zip(movies.index,movies[\"production_countries\"]):\n",
    "    list1=[]\n",
    "    for j in range(len(i)):\n",
    "        list1.append((i[j][\"name\"]))\n",
    "    movies.loc[index,\"production_countries\"]=str(list1)\n",
    "    \n",
    "credits[\"cast\"]=credits[\"cast\"].apply(json.loads)\n",
    "for index,i in zip(credits.index,credits[\"cast\"]):\n",
    "    list1=[]\n",
    "    for j in range(len(i)):\n",
    "        list1.append((i[j][\"name\"]))\n",
    "    credits.loc[index,\"cast\"]=str(list1)\n",
    "\n",
    "credits[\"crew\"]=credits[\"crew\"].apply(json.loads)\n",
    "def director(x):\n",
    "    for i in x:\n",
    "        if i[\"job\"]==\"Director\":\n",
    "            return i[\"name\"]\n",
    "credits[\"crew\"]=credits[\"crew\"].apply(director)\n",
    "credits.rename(columns={\"crew\":\"director\"},inplace=True)\n",
    "\n",
    "movies.head()"
   ]
  },
  {
   "cell_type": "markdown",
   "metadata": {},
   "source": [
    "Let's join the two dataset on the 'id' column:"
   ]
  },
  {
   "cell_type": "code",
   "execution_count": null,
   "metadata": {
    "ExecuteTime": {
     "end_time": "2020-04-15T07:36:38.215451Z",
     "start_time": "2020-04-15T07:36:38.163279Z"
    }
   },
   "outputs": [],
   "source": [
    "credits.columns=[\"id\",\"title_y\",\"cast\",\"crew\"]\n",
    "movies=movies.merge(credits,on=\"id\")\n",
    "\n",
    "movies.head()"
   ]
  },
  {
   "cell_type": "markdown",
   "metadata": {
    "heading_collapsed": true
   },
   "source": [
    "## <a name=\"2\">Demographic Filtering</a>"
   ]
  },
  {
   "cell_type": "markdown",
   "metadata": {
    "hidden": true
   },
   "source": [
    "Before getting started with this:\n",
    "- we need a metric to score or rate movie\n",
    "- Calculate the score for every movie\n",
    "- Sort the scores and recommend the best rated movie to the users.\n",
    "\n",
    "We can use the average ratings of the movie as the score but using this won't be fair enough since a movie with 8.9 average rating and only 3 votes cannot be considered better than the movie with 7.8 as as average rating but 40 votes. So, let's use [IMDB's weighted rating (wr)](https://math.stackexchange.com/questions/169032/understanding-the-imdb-weighted-rating-function-for-usage-on-my-own-website)\n",
    "\n",
    "where,\n",
    "- v is the number of votes for the movie;\n",
    "- m is the minimum votes required to be listed in the chart;\n",
    "- R is the average rating of the movie; And\n",
    "- C is the mean vote across the whole report\n",
    "\n",
    "We already have v (vote_count) and R (vote_average) and C can be calculated as"
   ]
  },
  {
   "cell_type": "code",
   "execution_count": null,
   "metadata": {
    "ExecuteTime": {
     "end_time": "2020-04-15T07:36:59.115204Z",
     "start_time": "2020-04-15T07:36:59.110016Z"
    },
    "hidden": true
   },
   "outputs": [],
   "source": [
    "C=movies[\"vote_average\"].mean()\n",
    "C"
   ]
  },
  {
   "cell_type": "markdown",
   "metadata": {
    "hidden": true
   },
   "source": [
    "So, the mean rating for all the movies is approx 6 on a scale of 10.The next step is to determine an appropriate value for m, the minimum votes required to be listed in the chart. We will use 90th percentile as our cutoff. In other words, for a movie to feature in the charts, it must have more votes than at least 90% of the movies in the list."
   ]
  },
  {
   "cell_type": "code",
   "execution_count": null,
   "metadata": {
    "ExecuteTime": {
     "end_time": "2020-04-15T07:37:01.668484Z",
     "start_time": "2020-04-15T07:37:01.647189Z"
    },
    "hidden": true
   },
   "outputs": [],
   "source": [
    "m=movies[\"vote_count\"].quantile(0.9)\n",
    "print(m)\n",
    "\n",
    "# Let's filter out the movies that qualify for the chart\n",
    "q_movies=movies.copy().loc[movies[\"vote_count\"]>=m]\n",
    "q_movies.shape"
   ]
  },
  {
   "cell_type": "markdown",
   "metadata": {
    "hidden": true
   },
   "source": [
    "We see that there are 481 movies which qualify to be in this list. Now, we need to calculate our metric for each qualified movie. To do this, we will define a function, weighted_rating() and define a new feature score, of which we'll calculate the value by applying this function to our DataFrame of qualified movies:"
   ]
  },
  {
   "cell_type": "code",
   "execution_count": null,
   "metadata": {
    "ExecuteTime": {
     "end_time": "2020-04-15T07:37:14.106045Z",
     "start_time": "2020-04-15T07:37:14.077692Z"
    },
    "hidden": true
   },
   "outputs": [],
   "source": [
    "def weighted_rating(x,m=m,C=C):\n",
    "    v=x[\"vote_count\"]\n",
    "    R=x[\"vote_average\"]\n",
    "    # Calculation based on the IMDB formula\n",
    "    return (v/(v+m)*R)+(m/(m+v)*C)\n",
    "\n",
    "# Define a new feature 'score' and calculate its value\n",
    "q_movies[\"score\"]=q_movies.apply(weighted_rating,axis=1)"
   ]
  },
  {
   "cell_type": "markdown",
   "metadata": {
    "hidden": true
   },
   "source": [
    "Finally, let's sort the DataFrame based on the score feature and output the title, vote count, vote average and weighted rating or score of the top 10 movies."
   ]
  },
  {
   "cell_type": "code",
   "execution_count": null,
   "metadata": {
    "ExecuteTime": {
     "end_time": "2020-04-15T07:37:22.294142Z",
     "start_time": "2020-04-15T07:37:22.280094Z"
    },
    "hidden": true
   },
   "outputs": [],
   "source": [
    "# Sort movies based on score calculated above\n",
    "q_movies=q_movies.sort_values(\"score\",ascending=False)\n",
    "\n",
    "q_movies[[\"title\",\"vote_count\",\"vote_average\",\"score\"]].head(10)"
   ]
  },
  {
   "cell_type": "markdown",
   "metadata": {
    "hidden": true
   },
   "source": [
    "We have made our first(though very basic) recommender. Under the Trending Now tab of these systems we find movies that are very popular and they can just be obtained by sorting the dataset by the popularity column."
   ]
  },
  {
   "cell_type": "code",
   "execution_count": null,
   "metadata": {
    "ExecuteTime": {
     "end_time": "2020-04-15T07:37:27.361135Z",
     "start_time": "2020-04-15T07:37:27.097117Z"
    },
    "hidden": true
   },
   "outputs": [],
   "source": [
    "pop=movies.sort_values(\"popularity\",ascending=False)\n",
    "\n",
    "import matplotlib.pyplot as plt\n",
    "\n",
    "plt.figure(figsize=(12,4))\n",
    "plt.barh(pop[\"title\"].head(6),pop[\"popularity\"].head(6),align=\"center\")\n",
    "plt.gca().invert_yaxis()\n",
    "plt.xlabel(\"Popularity\")\n",
    "plt.title(\"Popular Movies\")\n",
    "plt.show()"
   ]
  },
  {
   "cell_type": "markdown",
   "metadata": {
    "hidden": true
   },
   "source": [
    "Now something to keep in mind is that these demographic recommender provide a general chart of recommended movies to all the users. They are not sensitive to the interests and tastes of a particular user. This is when we move on to a more refined system- Content Based Filtering."
   ]
  },
  {
   "cell_type": "markdown",
   "metadata": {
    "heading_collapsed": true
   },
   "source": [
    "## <a name=\"3\">Content Based Filtering</a>"
   ]
  },
  {
   "cell_type": "markdown",
   "metadata": {
    "hidden": true
   },
   "source": [
    "In this recommender system the content of the movie (overview, cast, crew, keyword, tagline etc) is used to find its similarity with other movies. Then the movies that are most likely to be similar are recommended.\n",
    "\n",
    "**Plot description based Recommender**\n",
    "\n",
    "We will compute pairwise similarity scores for all movies based on their plot descriptions and recommend movies based on that similarity score. The plot description is given in the overview feature of our dataset. Let's take a look at the data."
   ]
  },
  {
   "cell_type": "code",
   "execution_count": null,
   "metadata": {
    "ExecuteTime": {
     "end_time": "2020-04-15T07:37:45.267276Z",
     "start_time": "2020-04-15T07:37:45.261110Z"
    },
    "hidden": true
   },
   "outputs": [],
   "source": [
    "movies[\"overview\"].head()"
   ]
  },
  {
   "cell_type": "markdown",
   "metadata": {
    "hidden": true
   },
   "source": [
    "Now we'll compute Term Frequency-Inverse Document Frequency (TF-IDF) vectors for each overview.\n",
    "\n",
    "Term frequency , it is the relative frequency of a word in a document and is given as (term instances/total instances). Inverse Document Frequency is the relative count of documents containing the term is given as log(number of documents/documents with term) The overall importance of each word to the documents in which they appear is equal to TF * IDF\n",
    "\n",
    "This will give us a matrix where each column represents a word in the overview vocabulary (all the words that appear in at least one document) and each column represents a movie, as before. This is done to reduce the importance of words that occur frequently in plot overviews and therefore, their significance in computing the final similarity score."
   ]
  },
  {
   "cell_type": "code",
   "execution_count": null,
   "metadata": {
    "ExecuteTime": {
     "end_time": "2020-04-15T07:38:12.410119Z",
     "start_time": "2020-04-15T07:38:11.032295Z"
    },
    "hidden": true
   },
   "outputs": [],
   "source": [
    "from sklearn.feature_extraction.text import TfidfVectorizer\n",
    "\n",
    "# Define a TF-IDF Vectorizer Object\n",
    "# Remove all english stop words such as 'the', 'a'\n",
    "tfidf=TfidfVectorizer(stop_words=\"english\")\n",
    "\n",
    "# Replace NaN with an empty string\n",
    "movies[\"overview\"]=movies[\"overview\"].fillna(\"\")\n",
    "\n",
    "# Construct the required TF-IDF matrix by fitting and transforming the data\n",
    "tfidf_matrix=tfidf.fit_transform(movies[\"overview\"])\n",
    "\n",
    "tfidf_matrix.shape"
   ]
  },
  {
   "cell_type": "markdown",
   "metadata": {
    "hidden": true
   },
   "source": [
    "We see that over 20,000 different words were used to describe the 4800 movies in our dataset.\n",
    "\n",
    "With this matrix in hand, we can now compute a similarity score. There are several candidates for this; such as the euclidean, the Pearson and the [cosine similarity score](https://en.wikipedia.org/wiki/Cosine_similarity). There is no right answer to which score is the best. Different scores work well in different scenarios and it is often a good idea to experiment with different metrics.\n",
    "\n",
    "We will be using the cosine similarity to calculate a numeric quantity that denotes the similarity between two movies. We use the cosine similarity score since it is independent of magnitude and is relatively easy and fast to calculate."
   ]
  },
  {
   "cell_type": "code",
   "execution_count": null,
   "metadata": {
    "ExecuteTime": {
     "end_time": "2020-04-15T07:38:19.609576Z",
     "start_time": "2020-04-15T07:38:19.364707Z"
    },
    "hidden": true
   },
   "outputs": [],
   "source": [
    "from sklearn.metrics.pairwise import linear_kernel\n",
    "\n",
    "# Compute the cosine similarity matrix\n",
    "cosine_sim=linear_kernel(tfidf_matrix,tfidf_matrix)"
   ]
  },
  {
   "cell_type": "markdown",
   "metadata": {
    "hidden": true
   },
   "source": [
    "We are going to define a function that takes in a movie title as an input and outputs a list of the 10 most similar movies. Firstly, for this, we need a reverse mapping of movie titles and DataFrame indices. In other words, we need a mechanism to identify the index of a movie in our metadata DataFrame, given its title."
   ]
  },
  {
   "cell_type": "code",
   "execution_count": null,
   "metadata": {
    "ExecuteTime": {
     "end_time": "2020-04-15T07:38:21.727773Z",
     "start_time": "2020-04-15T07:38:21.721167Z"
    },
    "hidden": true
   },
   "outputs": [],
   "source": [
    "# Construct a reverse map of indices and movie titles\n",
    "indices=pd.Series(movies.index,index=movies[\"title\"]).drop_duplicates()"
   ]
  },
  {
   "cell_type": "markdown",
   "metadata": {
    "ExecuteTime": {
     "end_time": "2020-04-14T08:56:09.564837Z",
     "start_time": "2020-04-14T08:56:09.558554Z"
    },
    "hidden": true
   },
   "source": [
    "We are now in a good position to define our recommendation function. These are the following steps we'll follow :\n",
    "- Get the index of the movie given its title.\n",
    "- Get the list of cosine similarity scores for that particular movie with all movies. Convert it into a list of tuples where the first element is its position and the second is the similarity score.\n",
    "- Sort the aforementioned list of tuples based on the similarity scores; that is, the second element.\n",
    "- Get the top 10 elements of this list. Ignore the first element as it refers to self (the movie most similar to a particular movie is the movie itself).\n",
    "- Return the titles corresponding to the indices of the top elements."
   ]
  },
  {
   "cell_type": "code",
   "execution_count": null,
   "metadata": {
    "ExecuteTime": {
     "end_time": "2020-04-15T07:38:28.135226Z",
     "start_time": "2020-04-15T07:38:28.129838Z"
    },
    "hidden": true
   },
   "outputs": [],
   "source": [
    "# Function that takes in movie title as input and outputs most similar movies\n",
    "def get_recommendations(title,cosine_sim=cosine_sim):\n",
    "    # Get the index of the movie that matches the title\n",
    "    idx=indices[title]\n",
    "    \n",
    "    # Get the pairwsie similarity scores of all movies with that movie\n",
    "    sim_scores=list(enumerate(cosine_sim[idx]))\n",
    "    \n",
    "    # Sort the movies based on the similarity scores\n",
    "    sim_scores=sorted(sim_scores,key=lambda x: x[1],reverse=True)\n",
    "    \n",
    "    # Get the scores of the 10 most similar movies\n",
    "    sim_scores=sim_scores[1:11]\n",
    "    \n",
    "    # Get the movie indices\n",
    "    movie_indices=[i[0] for i in sim_scores]\n",
    "    \n",
    "    # Return the top 10 most similar movies\n",
    "    return movies[\"title\"].iloc[movie_indices]"
   ]
  },
  {
   "cell_type": "code",
   "execution_count": null,
   "metadata": {
    "ExecuteTime": {
     "end_time": "2020-04-15T07:38:29.390112Z",
     "start_time": "2020-04-15T07:38:29.379934Z"
    },
    "hidden": true
   },
   "outputs": [],
   "source": [
    "get_recommendations(\"The Dark Knight Rises\")"
   ]
  },
  {
   "cell_type": "markdown",
   "metadata": {
    "hidden": true
   },
   "source": [
    "While our system has done a decent job of finding movies with similar plot descriptions, the quality of recommendations is not that great. \"The Dark Knight Rises\" returns all Batman movies while it is more likely that the people who liked that movie are more inclined to enjoy other Christopher Nolan movies. This is something that cannot be captured by the present system.\n",
    "\n",
    "**Credits, Genres and Keywords Based Recommender**\n",
    "\n",
    "It goes without saying that the quality of our recommender would be increased with the usage of better metadata. That is exactly what we are going to do in this section. We are going to build a recommender based on the following metadata: the 3 top actors, the director, related genres and the movie plot keywords.\n",
    "\n",
    "From the cast, crew and keywords features, we need to extract the three most important actors, the director and the keywords associated with that movie. Right now, our data is present in the form of \"stringified\" lists , we need to convert it into a safe and usable structure"
   ]
  },
  {
   "cell_type": "code",
   "execution_count": null,
   "metadata": {
    "ExecuteTime": {
     "end_time": "2020-04-15T07:38:46.407809Z",
     "start_time": "2020-04-15T07:38:39.904802Z"
    },
    "hidden": true
   },
   "outputs": [],
   "source": [
    "# Parse the stringified features into their corresponding python objects\n",
    "from ast import literal_eval\n",
    "\n",
    "features=[\"cast\",\"crew\",\"keywords\",\"genres\"]\n",
    "for feature in features:\n",
    "    movies[feature]=movies[feature].apply(literal_eval)"
   ]
  },
  {
   "cell_type": "markdown",
   "metadata": {
    "hidden": true
   },
   "source": [
    "Next, we'll write functions that will help us to extract the required information from each feature."
   ]
  },
  {
   "cell_type": "code",
   "execution_count": null,
   "metadata": {
    "ExecuteTime": {
     "end_time": "2020-04-15T07:38:55.399458Z",
     "start_time": "2020-04-15T07:38:55.395159Z"
    },
    "hidden": true
   },
   "outputs": [],
   "source": [
    "import numpy as np\n",
    "\n",
    "# Get the director's name from the crew feature. If director is not listed, return NaN\n",
    "def get_director(x):\n",
    "    for i in x:\n",
    "        if i[\"job\"]==\"Director\":\n",
    "            return i[\"name\"]\n",
    "    return np.nan"
   ]
  },
  {
   "cell_type": "code",
   "execution_count": null,
   "metadata": {
    "ExecuteTime": {
     "end_time": "2020-04-15T07:38:57.018779Z",
     "start_time": "2020-04-15T07:38:57.014619Z"
    },
    "hidden": true
   },
   "outputs": [],
   "source": [
    "# Returns the list top 3 elements or entire list; whichever is more\n",
    "def get_list(x):\n",
    "    if isinstance(x,list):\n",
    "        names=[i[\"name\"] for i in x]\n",
    "        # Check if more than 3 elements exist. If yes, return only first three. If no, return entire list\n",
    "        if len(names)>3:\n",
    "            names=names[:3]\n",
    "        return names\n",
    "    \n",
    "    # Return empty list in case of missing/malformed data\n",
    "    return []"
   ]
  },
  {
   "cell_type": "code",
   "execution_count": null,
   "metadata": {
    "ExecuteTime": {
     "end_time": "2020-04-15T07:39:00.951789Z",
     "start_time": "2020-04-15T07:39:00.794338Z"
    },
    "hidden": true
   },
   "outputs": [],
   "source": [
    "# Define new director, cast, genres and keywords features that are in a suitable form\n",
    "movies[\"director\"]=movies[\"crew\"].apply(get_director)\n",
    "\n",
    "features=[\"cast\",\"keywords\",\"genres\"]\n",
    "for feature in features:\n",
    "    movies[feature]=movies[feature].apply(get_list)\n",
    "    \n",
    "# Print the new features of the first 3 films\n",
    "movies[[\"title\",\"cast\",\"director\",\"keywords\",\"genres\"]].head(3)"
   ]
  },
  {
   "cell_type": "markdown",
   "metadata": {
    "hidden": true
   },
   "source": [
    "The next step would be to convert the names and keyword instances into lowercase and strip all the spaces between them. This is done so that our vectorizer doesn't count the Johnny of \"Johnny Depp\" and \"Johnny Galecki\" as the same."
   ]
  },
  {
   "cell_type": "code",
   "execution_count": null,
   "metadata": {
    "ExecuteTime": {
     "end_time": "2020-04-15T07:44:41.368926Z",
     "start_time": "2020-04-15T07:44:41.361737Z"
    },
    "hidden": true
   },
   "outputs": [],
   "source": [
    "# Function to convert all strings to lower case and strip names of spaces\n",
    "def clean_data(x):\n",
    "    if isinstance(x,list):\n",
    "        return [str.lower(i.replace(\" \",\"\")) for i in x]\n",
    "    else:\n",
    "        # Check if director exists. If not, return empty string\n",
    "        if isinstance(x,str):\n",
    "            return str.lower(x.replace(\" \",\"\"))\n",
    "        else:\n",
    "            return \"\""
   ]
  },
  {
   "cell_type": "code",
   "execution_count": null,
   "metadata": {
    "ExecuteTime": {
     "end_time": "2020-04-15T07:46:08.097633Z",
     "start_time": "2020-04-15T07:46:08.056092Z"
    },
    "hidden": true
   },
   "outputs": [],
   "source": [
    "# Apply clean_data function to your features\n",
    "features=[\"cast\",\"keywords\",\"director\",\"genres\"]\n",
    "\n",
    "for feature in features:\n",
    "    movies[feature]=movies[feature].apply(clean_data)"
   ]
  },
  {
   "cell_type": "markdown",
   "metadata": {
    "hidden": true
   },
   "source": [
    "We are now in a position to create our \"metadata soup\", which is a string that contains all the metadata that we want to feed to our vectorizer (namely actors, director and keywords)."
   ]
  },
  {
   "cell_type": "code",
   "execution_count": null,
   "metadata": {
    "ExecuteTime": {
     "end_time": "2020-04-15T07:48:14.610641Z",
     "start_time": "2020-04-15T07:48:14.386165Z"
    },
    "hidden": true
   },
   "outputs": [],
   "source": [
    "def create_soup(x):\n",
    "    return \" \".join(x[\"keywords\"])+\" \"+\" \".join(x[\"cast\"])+\" \"+x[\"director\"]+\" \"+\" \".join(x[\"genres\"])\n",
    "movies[\"soup\"]=movies.apply(create_soup,axis=1)"
   ]
  },
  {
   "cell_type": "markdown",
   "metadata": {
    "hidden": true
   },
   "source": [
    "The next steps are the same as what we did with our plot description based recommender. One important difference is that we use the CountVectorizer() instead of TF-IDF. This is because we do not want to down-weight the presence of an actor/director if he or she has acted or directed in relatively more movies. It doesn't make much intuitive sense."
   ]
  },
  {
   "cell_type": "code",
   "execution_count": null,
   "metadata": {
    "ExecuteTime": {
     "end_time": "2020-04-15T07:50:01.917164Z",
     "start_time": "2020-04-15T07:50:01.831027Z"
    },
    "hidden": true
   },
   "outputs": [],
   "source": [
    "from sklearn.feature_extraction.text import CountVectorizer\n",
    "\n",
    "count=CountVectorizer(stop_words=\"english\")\n",
    "count_matrix=count.fit_transform(movies[\"soup\"])"
   ]
  },
  {
   "cell_type": "code",
   "execution_count": null,
   "metadata": {
    "ExecuteTime": {
     "end_time": "2020-04-15T07:50:39.392165Z",
     "start_time": "2020-04-15T07:50:39.144850Z"
    },
    "hidden": true
   },
   "outputs": [],
   "source": [
    "# Compute the Cosine Similarity matrix based on the count_matrix\n",
    "from sklearn.metrics.pairwise import cosine_similarity\n",
    "\n",
    "cosine_sim2=cosine_similarity(count_matrix,count_matrix)"
   ]
  },
  {
   "cell_type": "code",
   "execution_count": null,
   "metadata": {
    "ExecuteTime": {
     "end_time": "2020-04-15T07:51:12.280768Z",
     "start_time": "2020-04-15T07:51:12.264824Z"
    },
    "hidden": true
   },
   "outputs": [],
   "source": [
    "# Reset index of our main DataFrame and construct reverse mapping as before\n",
    "movies=movies.reset_index()\n",
    "indices=pd.Series(movies.index,index=movies[\"title\"])"
   ]
  },
  {
   "cell_type": "markdown",
   "metadata": {
    "hidden": true
   },
   "source": [
    "We can now reuse our get_recommendations() function by passing in the new cosine_sim2 matrix as your second argument."
   ]
  },
  {
   "cell_type": "code",
   "execution_count": null,
   "metadata": {
    "ExecuteTime": {
     "end_time": "2020-04-15T07:51:50.488527Z",
     "start_time": "2020-04-15T07:51:50.467224Z"
    },
    "hidden": true
   },
   "outputs": [],
   "source": [
    "get_recommendations(\"The Dark Knight Rises\",cosine_sim2)"
   ]
  },
  {
   "cell_type": "markdown",
   "metadata": {
    "hidden": true
   },
   "source": [
    "We see that our recommender has been successful in capturing more information due to more metadata and has given us (arguably) better recommendations. It is more likely that Marvels or DC comics fans will like the movies of the same production house. Therefore, to our features above we can add production_company . We can also increase the weight of the director , by adding the feature multiple times in the soup."
   ]
  },
  {
   "cell_type": "markdown",
   "metadata": {
    "heading_collapsed": true
   },
   "source": [
    "## <a name=\"4\">Collaborative Filtering</a>"
   ]
  },
  {
   "cell_type": "markdown",
   "metadata": {
    "hidden": true
   },
   "source": [
    "Our content based engine suffers from some severe limitations. It is only capable of suggesting movies which are close to a certain movie. That is, it is not capable of capturing tastes and providing recommendations across genres.\n",
    "\n",
    "Also, the engine that we built is not really personal in that it doesn't capture the personal tastes and biases of a user. Anyone querying our engine for recommendations based on a movie will receive the same recommendations for that movie, regardless of who she/he is.\n",
    "\n",
    "Therefore, in this section, we will use a technique called Collaborative Filtering to make recommendations to Movie Watchers. It is basically of two types:\n",
    "- User based filtering: These systems recommend products to a user that similar users have liked. For measuring the similarity between two users we can either use pearson correlation or cosine similarity. Although computing user-based CF is very simple, it suffers from several problems. One main issue is that users preference can change over time. It indicates that precomputing the matrix based on their neighboring users may lead to bad performance. To tackle this problem, we can apply item-based CF.\n",
    "- Item Based Collaborative Filtering: Instead of measuring the similarity between users, the item-based CF recommends items based on their similarity with the items that the target user rated. Likewise, the similarity can be computed with Pearson Correlation or Cosine Similarity. It successfully avoids the problem posed by dynamic user preference as item-based CF is more static. However, several problems remain for this method. First, the main issue is scalability. The computation grows with both the customer and the product. The worst case complexity is O(mn) with m users and n items. In addition, sparsity is another concern.\n",
    "\n",
    "**Single Value Decomposition**\n",
    "\n",
    "One way to handle the scalability and sparsity issue created by CF is to leverage a latent factor model to capture the similarity between users and items. Essentially, we want to turn the recommendation problem into an optimization problem. We can view it as how good we are in predicting the rating for items given a user. One common metric is Root Mean Square Error (RMSE). The lower the RMSE, the better the performance.\n",
    "\n",
    "Now talking about latent factor you might be wondering what is it ?It is a broad idea which describes a property or concept that a user or an item have. For instance, for music, latent factor can refer to the genre that the music belongs to. SVD decreases the dimension of the utility matrix by extracting its latent factors. Essentially, we map each user and each item into a latent space with dimension r. Therefore, it helps us better understand the relationship between users and items as they become directly comparable.\n",
    "\n",
    "Let's see how to implement this. Since the dataset we used before did not have userId (which is necessary for collaborative filtering) let's load another dataset. We'll be using the Surprise library to implement SVD."
   ]
  },
  {
   "cell_type": "code",
   "execution_count": null,
   "metadata": {
    "ExecuteTime": {
     "end_time": "2020-04-15T08:06:58.334261Z",
     "start_time": "2020-04-15T08:06:58.301577Z"
    },
    "hidden": true
   },
   "outputs": [],
   "source": [
    "from surprise import Reader,Dataset,SVD\n",
    "\n",
    "reader=Reader()\n",
    "ratings=pd.read_csv(\"data/ratings_small.csv\")"
   ]
  },
  {
   "cell_type": "markdown",
   "metadata": {
    "hidden": true
   },
   "source": [
    "Note that in this dataset movies are rated on a scale of 5 unlike the earlier one."
   ]
  },
  {
   "cell_type": "code",
   "execution_count": null,
   "metadata": {
    "ExecuteTime": {
     "end_time": "2020-04-15T08:10:50.627672Z",
     "start_time": "2020-04-15T08:10:50.521331Z"
    },
    "hidden": true
   },
   "outputs": [],
   "source": [
    "data=Dataset.load_from_df(ratings[[\"userId\",\"movieId\",\"rating\"]],reader)\n",
    "# data.split(n_folds=5)"
   ]
  },
  {
   "cell_type": "code",
   "execution_count": null,
   "metadata": {
    "ExecuteTime": {
     "end_time": "2020-04-15T08:13:14.640714Z",
     "start_time": "2020-04-15T08:12:51.613630Z"
    },
    "hidden": true
   },
   "outputs": [],
   "source": [
    "svd=SVD()\n",
    "\n",
    "from surprise.model_selection import cross_validate\n",
    "\n",
    "cross_validate(svd,data,measures=['RMSE', 'MAE'],cv=5,verbose=True)"
   ]
  },
  {
   "cell_type": "markdown",
   "metadata": {
    "hidden": true
   },
   "source": [
    "We get a mean Root Mean Square Error of 0.89 approx which is more than good enough for our case. Let's now train on our dataset and arrive at predictions."
   ]
  },
  {
   "cell_type": "code",
   "execution_count": null,
   "metadata": {
    "ExecuteTime": {
     "end_time": "2020-04-15T08:14:18.124249Z",
     "start_time": "2020-04-15T08:14:12.883001Z"
    },
    "hidden": true
   },
   "outputs": [],
   "source": [
    "train=data.build_full_trainset()\n",
    "svd.fit(train)"
   ]
  },
  {
   "cell_type": "markdown",
   "metadata": {
    "hidden": true
   },
   "source": [
    "Let's pick user with user Id 1 and check the ratings she/he has given."
   ]
  },
  {
   "cell_type": "code",
   "execution_count": null,
   "metadata": {
    "ExecuteTime": {
     "end_time": "2020-04-15T08:14:48.431502Z",
     "start_time": "2020-04-15T08:14:48.419157Z"
    },
    "hidden": true
   },
   "outputs": [],
   "source": [
    "ratings[ratings[\"userId\"]==1]"
   ]
  },
  {
   "cell_type": "code",
   "execution_count": null,
   "metadata": {
    "ExecuteTime": {
     "end_time": "2020-04-15T08:15:13.579421Z",
     "start_time": "2020-04-15T08:15:13.566523Z"
    },
    "hidden": true
   },
   "outputs": [],
   "source": [
    "svd.predict(1,302,3)"
   ]
  },
  {
   "cell_type": "markdown",
   "metadata": {
    "hidden": true
   },
   "source": [
    "For movie with ID 302, we get an estimated prediction of 2.618. One startling feature of this recommender system is that it doesn't care what the movie is (or what it contains). It works purely on the basis of an assigned movie ID and tries to predict ratings based on how the other users have predicted the movie."
   ]
  }
 ],
 "metadata": {
  "kernelspec": {
   "display_name": "Python 3",
   "language": "python",
   "name": "python3"
  },
  "language_info": {
   "codemirror_mode": {
    "name": "ipython",
    "version": 3
   },
   "file_extension": ".py",
   "mimetype": "text/x-python",
   "name": "python",
   "nbconvert_exporter": "python",
   "pygments_lexer": "ipython3",
   "version": "3.7.4"
  },
  "toc": {
   "base_numbering": 1,
   "nav_menu": {},
   "number_sections": true,
   "sideBar": true,
   "skip_h1_title": false,
   "title_cell": "Table of Contents",
   "title_sidebar": "Contents",
   "toc_cell": false,
   "toc_position": {},
   "toc_section_display": true,
   "toc_window_display": false
  }
 },
 "nbformat": 4,
 "nbformat_minor": 2
}
